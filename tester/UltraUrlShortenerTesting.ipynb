{
  "nbformat": 4,
  "nbformat_minor": 0,
  "metadata": {
    "colab": {
      "name": "UltraUrlShortenerTesting.ipynb",
      "provenance": [],
      "collapsed_sections": []
    },
    "kernelspec": {
      "name": "python3",
      "display_name": "Python 3"
    },
    "language_info": {
      "name": "python"
    }
  },
  "cells": [
    {
      "cell_type": "code",
      "execution_count": null,
      "metadata": {
        "id": "RGowI238YJJv"
      },
      "outputs": [],
      "source": [
        "import requests\n",
        "import time\n",
        "import math\n",
        "import random"
      ]
    },
    {
      "cell_type": "code",
      "source": [
        "SERVER_IP = 'localhost'\n",
        "NON_EXIST_QUERIES_RATIO = 10\n",
        "QUERY_RATIO = 50\n",
        "NUMBER_OF_THREADS = 30"
      ],
      "metadata": {
        "id": "dlS0LVJxYOh5"
      },
      "execution_count": null,
      "outputs": []
    },
    {
      "cell_type": "code",
      "source": [
        "def write(url, expire):\n",
        "    headers = {\n",
        "        'Content-Type': 'application/json'\n",
        "    }\n",
        "    data = '{ \"url\": \"' + url + '\", \"expireAt\": \"' + expire + '\" }'\n",
        "    return requests.post(f'http://{SERVER_IP}/api/v1/urls', headers=headers, data=data)"
      ],
      "metadata": {
        "id": "SL29XuklYP1Z"
      },
      "execution_count": null,
      "outputs": []
    },
    {
      "cell_type": "code",
      "source": [
        "def read(id):\n",
        "    return requests.get(f'http://{SERVER_IP}/{id}')"
      ],
      "metadata": {
        "id": "s59bIRBcYRF_"
      },
      "execution_count": null,
      "outputs": []
    },
    {
      "cell_type": "code",
      "source": [
        "def worker():\n",
        "    time.sleep(random.randint(0, 9) / 100)\n",
        "    i = 0\n",
        "    timeTags, startTag = [], time.time()\n",
        "    while time.time() < startTag + 60:\n",
        "        if i < NON_EXIST_QUERIES_RATIO:\n",
        "            read('-1')\n",
        "        elif NON_EXIST_QUERIES_RATIO <= i and i < QUERY_RATIO:\n",
        "            read('0')\n",
        "        elif QUERY_RATIO <= i:\n",
        "            write('www.google.com', \"2023-02-08T09:20:41Z\")\n",
        "        timeTags.append(time.time())\n",
        "        i = (i + 1) % 100\n",
        "    return timeTags"
      ],
      "metadata": {
        "id": "6wjrbaBCYSRp"
      },
      "execution_count": null,
      "outputs": []
    },
    {
      "cell_type": "code",
      "source": [
        "from multiprocessing.pool import ThreadPool\n",
        "pool = ThreadPool(processes=NUMBER_OF_THREADS)\n",
        "async_result = pool.apply_async(worker) # tuple of args for foo\n",
        "timeTags = sorted([tag for tag in result for result in async_result])\n",
        "timeTags = [math.floor(tag) for tag in timeTags]\n",
        "bucket = {}\n",
        "for tag in timeTags:\n",
        "    bucket[tag] += 1"
      ],
      "metadata": {
        "id": "bzEypdmDYTui"
      },
      "execution_count": null,
      "outputs": []
    },
    {
      "cell_type": "code",
      "source": [
        "import matplotlib.pyplot as plt\n",
        "import numpy as np\n",
        "\n",
        "math_scores = [78, 67, 90, 81]\n",
        "iterator = np.arange(len(x))\n",
        "x = bucket.keys()\n",
        "y = [bucket[k] for k in x]\n",
        "plt.bar(np.arange(len(x)), y)\n",
        "plt.xticks(iterator, x)\n",
        "plt.xlabel('time')\n",
        "plt.ylabel('ops per bucket')\n",
        "plt.title('Performance chart')\n",
        "plt.show()"
      ],
      "metadata": {
        "id": "J5dMCuu0YVaU"
      },
      "execution_count": null,
      "outputs": []
    }
  ]
}